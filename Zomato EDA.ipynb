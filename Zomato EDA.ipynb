{
 "cells": [
  {
   "cell_type": "code",
   "execution_count": 1,
   "id": "86e05890",
   "metadata": {
    "_cell_guid": "b1076dfc-b9ad-4769-8c92-a6c4dae69d19",
    "_uuid": "8f2839f25d086af736a60e9eeb907d3b93b6e0e5",
    "execution": {
     "iopub.execute_input": "2023-06-22T08:15:21.756546Z",
     "iopub.status.busy": "2023-06-22T08:15:21.756050Z",
     "iopub.status.idle": "2023-06-22T08:15:21.776214Z",
     "shell.execute_reply": "2023-06-22T08:15:21.775001Z"
    },
    "papermill": {
     "duration": 0.038871,
     "end_time": "2023-06-22T08:15:21.778924",
     "exception": false,
     "start_time": "2023-06-22T08:15:21.740053",
     "status": "completed"
    },
    "tags": []
   },
   "outputs": [
    {
     "name": "stdout",
     "output_type": "stream",
     "text": [
      "/kaggle/input/zomato-eda/zomato.csv\n"
     ]
    }
   ],
   "source": [
    "# This Python 3 environment comes with many helpful analytics libraries installed\n",
    "# It is defined by the kaggle/python Docker image: https://github.com/kaggle/docker-python\n",
    "# For example, here's several helpful packages to load\n",
    "\n",
    "import numpy as np # linear algebra\n",
    "import pandas as pd # data processing, CSV file I/O (e.g. pd.read_csv)\n",
    "\n",
    "# Input data files are available in the read-only \"../input/\" directory\n",
    "# For example, running this (by clicking run or pressing Shift+Enter) will list all files under the input directory\n",
    "\n",
    "import os\n",
    "for dirname, _, filenames in os.walk('/kaggle/input'):\n",
    "    for filename in filenames:\n",
    "        print(os.path.join(dirname, filename))\n",
    "\n",
    "# You can write up to 20GB to the current directory (/kaggle/working/) that gets preserved as output when you create a version using \"Save & Run All\" \n",
    "# You can also write temporary files to /kaggle/temp/, but they won't be saved outside of the current session"
   ]
  },
  {
   "cell_type": "code",
   "execution_count": 2,
   "id": "25fcacc9",
   "metadata": {
    "execution": {
     "iopub.execute_input": "2023-06-22T08:15:21.809525Z",
     "iopub.status.busy": "2023-06-22T08:15:21.809157Z",
     "iopub.status.idle": "2023-06-22T08:15:33.829783Z",
     "shell.execute_reply": "2023-06-22T08:15:33.828561Z"
    },
    "papermill": {
     "duration": 12.039239,
     "end_time": "2023-06-22T08:15:33.832740",
     "exception": false,
     "start_time": "2023-06-22T08:15:21.793501",
     "status": "completed"
    },
    "tags": []
   },
   "outputs": [
    {
     "data": {
      "text/html": [
       "<div>\n",
       "<style scoped>\n",
       "    .dataframe tbody tr th:only-of-type {\n",
       "        vertical-align: middle;\n",
       "    }\n",
       "\n",
       "    .dataframe tbody tr th {\n",
       "        vertical-align: top;\n",
       "    }\n",
       "\n",
       "    .dataframe thead th {\n",
       "        text-align: right;\n",
       "    }\n",
       "</style>\n",
       "<table border=\"1\" class=\"dataframe\">\n",
       "  <thead>\n",
       "    <tr style=\"text-align: right;\">\n",
       "      <th></th>\n",
       "      <th>url</th>\n",
       "      <th>address</th>\n",
       "      <th>name</th>\n",
       "      <th>online_order</th>\n",
       "      <th>book_table</th>\n",
       "      <th>rate</th>\n",
       "      <th>votes</th>\n",
       "      <th>phone</th>\n",
       "      <th>location</th>\n",
       "      <th>rest_type</th>\n",
       "      <th>dish_liked</th>\n",
       "      <th>cuisines</th>\n",
       "      <th>approx_cost(for two people)</th>\n",
       "      <th>reviews_list</th>\n",
       "      <th>menu_item</th>\n",
       "      <th>listed_in(type)</th>\n",
       "      <th>listed_in(city)</th>\n",
       "    </tr>\n",
       "  </thead>\n",
       "  <tbody>\n",
       "    <tr>\n",
       "      <th>0</th>\n",
       "      <td>https://www.zomato.com/bangalore/jalsa-banasha...</td>\n",
       "      <td>942, 21st Main Road, 2nd Stage, Banashankari, ...</td>\n",
       "      <td>Jalsa</td>\n",
       "      <td>Yes</td>\n",
       "      <td>Yes</td>\n",
       "      <td>4.1/5</td>\n",
       "      <td>775</td>\n",
       "      <td>080 42297555\\r\\n+91 9743772233</td>\n",
       "      <td>Banashankari</td>\n",
       "      <td>Casual Dining</td>\n",
       "      <td>Pasta, Lunch Buffet, Masala Papad, Paneer Laja...</td>\n",
       "      <td>North Indian, Mughlai, Chinese</td>\n",
       "      <td>800</td>\n",
       "      <td>[('Rated 4.0', 'RATED\\n  A beautiful place to ...</td>\n",
       "      <td>[]</td>\n",
       "      <td>Buffet</td>\n",
       "      <td>Banashankari</td>\n",
       "    </tr>\n",
       "    <tr>\n",
       "      <th>1</th>\n",
       "      <td>https://www.zomato.com/bangalore/spice-elephan...</td>\n",
       "      <td>2nd Floor, 80 Feet Road, Near Big Bazaar, 6th ...</td>\n",
       "      <td>Spice Elephant</td>\n",
       "      <td>Yes</td>\n",
       "      <td>No</td>\n",
       "      <td>4.1/5</td>\n",
       "      <td>787</td>\n",
       "      <td>080 41714161</td>\n",
       "      <td>Banashankari</td>\n",
       "      <td>Casual Dining</td>\n",
       "      <td>Momos, Lunch Buffet, Chocolate Nirvana, Thai G...</td>\n",
       "      <td>Chinese, North Indian, Thai</td>\n",
       "      <td>800</td>\n",
       "      <td>[('Rated 4.0', 'RATED\\n  Had been here for din...</td>\n",
       "      <td>[]</td>\n",
       "      <td>Buffet</td>\n",
       "      <td>Banashankari</td>\n",
       "    </tr>\n",
       "    <tr>\n",
       "      <th>2</th>\n",
       "      <td>https://www.zomato.com/SanchurroBangalore?cont...</td>\n",
       "      <td>1112, Next to KIMS Medical College, 17th Cross...</td>\n",
       "      <td>San Churro Cafe</td>\n",
       "      <td>Yes</td>\n",
       "      <td>No</td>\n",
       "      <td>3.8/5</td>\n",
       "      <td>918</td>\n",
       "      <td>+91 9663487993</td>\n",
       "      <td>Banashankari</td>\n",
       "      <td>Cafe, Casual Dining</td>\n",
       "      <td>Churros, Cannelloni, Minestrone Soup, Hot Choc...</td>\n",
       "      <td>Cafe, Mexican, Italian</td>\n",
       "      <td>800</td>\n",
       "      <td>[('Rated 3.0', \"RATED\\n  Ambience is not that ...</td>\n",
       "      <td>[]</td>\n",
       "      <td>Buffet</td>\n",
       "      <td>Banashankari</td>\n",
       "    </tr>\n",
       "    <tr>\n",
       "      <th>3</th>\n",
       "      <td>https://www.zomato.com/bangalore/addhuri-udupi...</td>\n",
       "      <td>1st Floor, Annakuteera, 3rd Stage, Banashankar...</td>\n",
       "      <td>Addhuri Udupi Bhojana</td>\n",
       "      <td>No</td>\n",
       "      <td>No</td>\n",
       "      <td>3.7/5</td>\n",
       "      <td>88</td>\n",
       "      <td>+91 9620009302</td>\n",
       "      <td>Banashankari</td>\n",
       "      <td>Quick Bites</td>\n",
       "      <td>Masala Dosa</td>\n",
       "      <td>South Indian, North Indian</td>\n",
       "      <td>300</td>\n",
       "      <td>[('Rated 4.0', \"RATED\\n  Great food and proper...</td>\n",
       "      <td>[]</td>\n",
       "      <td>Buffet</td>\n",
       "      <td>Banashankari</td>\n",
       "    </tr>\n",
       "    <tr>\n",
       "      <th>4</th>\n",
       "      <td>https://www.zomato.com/bangalore/grand-village...</td>\n",
       "      <td>10, 3rd Floor, Lakshmi Associates, Gandhi Baza...</td>\n",
       "      <td>Grand Village</td>\n",
       "      <td>No</td>\n",
       "      <td>No</td>\n",
       "      <td>3.8/5</td>\n",
       "      <td>166</td>\n",
       "      <td>+91 8026612447\\r\\n+91 9901210005</td>\n",
       "      <td>Basavanagudi</td>\n",
       "      <td>Casual Dining</td>\n",
       "      <td>Panipuri, Gol Gappe</td>\n",
       "      <td>North Indian, Rajasthani</td>\n",
       "      <td>600</td>\n",
       "      <td>[('Rated 4.0', 'RATED\\n  Very good restaurant ...</td>\n",
       "      <td>[]</td>\n",
       "      <td>Buffet</td>\n",
       "      <td>Banashankari</td>\n",
       "    </tr>\n",
       "    <tr>\n",
       "      <th>5</th>\n",
       "      <td>https://www.zomato.com/bangalore/timepass-dinn...</td>\n",
       "      <td>37, 5-1, 4th Floor, Bosco Court, Gandhi Bazaar...</td>\n",
       "      <td>Timepass Dinner</td>\n",
       "      <td>Yes</td>\n",
       "      <td>No</td>\n",
       "      <td>3.8/5</td>\n",
       "      <td>286</td>\n",
       "      <td>+91 9980040002\\r\\n+91 9980063005</td>\n",
       "      <td>Basavanagudi</td>\n",
       "      <td>Casual Dining</td>\n",
       "      <td>Onion Rings, Pasta, Kadhai Paneer, Salads, Sal...</td>\n",
       "      <td>North Indian</td>\n",
       "      <td>600</td>\n",
       "      <td>[('Rated 3.0', 'RATED\\n  Food 3/5\\nAmbience 3/...</td>\n",
       "      <td>[]</td>\n",
       "      <td>Buffet</td>\n",
       "      <td>Banashankari</td>\n",
       "    </tr>\n",
       "    <tr>\n",
       "      <th>6</th>\n",
       "      <td>https://www.zomato.com/bangalore/rosewood-inte...</td>\n",
       "      <td>19/1, New Timberyard Layout, Beside Satellite ...</td>\n",
       "      <td>Rosewood International Hotel - Bar &amp; Restaurant</td>\n",
       "      <td>No</td>\n",
       "      <td>No</td>\n",
       "      <td>3.6/5</td>\n",
       "      <td>8</td>\n",
       "      <td>+91 9731716688\\r\\n080 26740366</td>\n",
       "      <td>Mysore Road</td>\n",
       "      <td>Casual Dining</td>\n",
       "      <td>NaN</td>\n",
       "      <td>North Indian, South Indian, Andhra, Chinese</td>\n",
       "      <td>800</td>\n",
       "      <td>[('Rated 5.0', 'RATED\\n  Awesome food ??Great ...</td>\n",
       "      <td>[]</td>\n",
       "      <td>Buffet</td>\n",
       "      <td>Banashankari</td>\n",
       "    </tr>\n",
       "    <tr>\n",
       "      <th>7</th>\n",
       "      <td>https://www.zomato.com/bangalore/onesta-banash...</td>\n",
       "      <td>2469, 3rd Floor, 24th Cross, Opposite BDA Comp...</td>\n",
       "      <td>Onesta</td>\n",
       "      <td>Yes</td>\n",
       "      <td>Yes</td>\n",
       "      <td>4.6/5</td>\n",
       "      <td>2556</td>\n",
       "      <td>080 48653961\\r\\n080 48655715</td>\n",
       "      <td>Banashankari</td>\n",
       "      <td>Casual Dining, Cafe</td>\n",
       "      <td>Farmhouse Pizza, Chocolate Banana, Virgin Moji...</td>\n",
       "      <td>Pizza, Cafe, Italian</td>\n",
       "      <td>600</td>\n",
       "      <td>[('Rated 5.0', 'RATED\\n  I personally really l...</td>\n",
       "      <td>[]</td>\n",
       "      <td>Cafes</td>\n",
       "      <td>Banashankari</td>\n",
       "    </tr>\n",
       "    <tr>\n",
       "      <th>8</th>\n",
       "      <td>https://www.zomato.com/bangalore/penthouse-caf...</td>\n",
       "      <td>1, 30th Main Road, 3rd Stage, Banashankari, Ba...</td>\n",
       "      <td>Penthouse Cafe</td>\n",
       "      <td>Yes</td>\n",
       "      <td>No</td>\n",
       "      <td>4.0/5</td>\n",
       "      <td>324</td>\n",
       "      <td>+91 8884135549\\r\\n+91 9449449316</td>\n",
       "      <td>Banashankari</td>\n",
       "      <td>Cafe</td>\n",
       "      <td>Pizza, Mocktails, Coffee, Nachos, Salad, Pasta...</td>\n",
       "      <td>Cafe, Italian, Continental</td>\n",
       "      <td>700</td>\n",
       "      <td>[('Rated 3.0', \"RATED\\n  I had been to this pl...</td>\n",
       "      <td>[]</td>\n",
       "      <td>Cafes</td>\n",
       "      <td>Banashankari</td>\n",
       "    </tr>\n",
       "    <tr>\n",
       "      <th>9</th>\n",
       "      <td>https://www.zomato.com/bangalore/smacznego-ban...</td>\n",
       "      <td>2470, 21 Main Road, 25th Cross, Banashankari, ...</td>\n",
       "      <td>Smacznego</td>\n",
       "      <td>Yes</td>\n",
       "      <td>No</td>\n",
       "      <td>4.2/5</td>\n",
       "      <td>504</td>\n",
       "      <td>+91 9945230807\\r\\n+91 9743804471</td>\n",
       "      <td>Banashankari</td>\n",
       "      <td>Cafe</td>\n",
       "      <td>Waffles, Pasta, Coleslaw Sandwich, Choco Waffl...</td>\n",
       "      <td>Cafe, Mexican, Italian, Momos, Beverages</td>\n",
       "      <td>550</td>\n",
       "      <td>[('Rated 4.0', \"RATED\\n  Easy to locate\\nVFM 3...</td>\n",
       "      <td>[]</td>\n",
       "      <td>Cafes</td>\n",
       "      <td>Banashankari</td>\n",
       "    </tr>\n",
       "  </tbody>\n",
       "</table>\n",
       "</div>"
      ],
      "text/plain": [
       "                                                 url  \\\n",
       "0  https://www.zomato.com/bangalore/jalsa-banasha...   \n",
       "1  https://www.zomato.com/bangalore/spice-elephan...   \n",
       "2  https://www.zomato.com/SanchurroBangalore?cont...   \n",
       "3  https://www.zomato.com/bangalore/addhuri-udupi...   \n",
       "4  https://www.zomato.com/bangalore/grand-village...   \n",
       "5  https://www.zomato.com/bangalore/timepass-dinn...   \n",
       "6  https://www.zomato.com/bangalore/rosewood-inte...   \n",
       "7  https://www.zomato.com/bangalore/onesta-banash...   \n",
       "8  https://www.zomato.com/bangalore/penthouse-caf...   \n",
       "9  https://www.zomato.com/bangalore/smacznego-ban...   \n",
       "\n",
       "                                             address  \\\n",
       "0  942, 21st Main Road, 2nd Stage, Banashankari, ...   \n",
       "1  2nd Floor, 80 Feet Road, Near Big Bazaar, 6th ...   \n",
       "2  1112, Next to KIMS Medical College, 17th Cross...   \n",
       "3  1st Floor, Annakuteera, 3rd Stage, Banashankar...   \n",
       "4  10, 3rd Floor, Lakshmi Associates, Gandhi Baza...   \n",
       "5  37, 5-1, 4th Floor, Bosco Court, Gandhi Bazaar...   \n",
       "6  19/1, New Timberyard Layout, Beside Satellite ...   \n",
       "7  2469, 3rd Floor, 24th Cross, Opposite BDA Comp...   \n",
       "8  1, 30th Main Road, 3rd Stage, Banashankari, Ba...   \n",
       "9  2470, 21 Main Road, 25th Cross, Banashankari, ...   \n",
       "\n",
       "                                              name online_order book_table  \\\n",
       "0                                            Jalsa          Yes        Yes   \n",
       "1                                   Spice Elephant          Yes         No   \n",
       "2                                  San Churro Cafe          Yes         No   \n",
       "3                            Addhuri Udupi Bhojana           No         No   \n",
       "4                                    Grand Village           No         No   \n",
       "5                                  Timepass Dinner          Yes         No   \n",
       "6  Rosewood International Hotel - Bar & Restaurant           No         No   \n",
       "7                                           Onesta          Yes        Yes   \n",
       "8                                   Penthouse Cafe          Yes         No   \n",
       "9                                        Smacznego          Yes         No   \n",
       "\n",
       "    rate  votes                             phone      location  \\\n",
       "0  4.1/5    775    080 42297555\\r\\n+91 9743772233  Banashankari   \n",
       "1  4.1/5    787                      080 41714161  Banashankari   \n",
       "2  3.8/5    918                    +91 9663487993  Banashankari   \n",
       "3  3.7/5     88                    +91 9620009302  Banashankari   \n",
       "4  3.8/5    166  +91 8026612447\\r\\n+91 9901210005  Basavanagudi   \n",
       "5  3.8/5    286  +91 9980040002\\r\\n+91 9980063005  Basavanagudi   \n",
       "6  3.6/5      8    +91 9731716688\\r\\n080 26740366   Mysore Road   \n",
       "7  4.6/5   2556      080 48653961\\r\\n080 48655715  Banashankari   \n",
       "8  4.0/5    324  +91 8884135549\\r\\n+91 9449449316  Banashankari   \n",
       "9  4.2/5    504  +91 9945230807\\r\\n+91 9743804471  Banashankari   \n",
       "\n",
       "             rest_type                                         dish_liked  \\\n",
       "0        Casual Dining  Pasta, Lunch Buffet, Masala Papad, Paneer Laja...   \n",
       "1        Casual Dining  Momos, Lunch Buffet, Chocolate Nirvana, Thai G...   \n",
       "2  Cafe, Casual Dining  Churros, Cannelloni, Minestrone Soup, Hot Choc...   \n",
       "3          Quick Bites                                        Masala Dosa   \n",
       "4        Casual Dining                                Panipuri, Gol Gappe   \n",
       "5        Casual Dining  Onion Rings, Pasta, Kadhai Paneer, Salads, Sal...   \n",
       "6        Casual Dining                                                NaN   \n",
       "7  Casual Dining, Cafe  Farmhouse Pizza, Chocolate Banana, Virgin Moji...   \n",
       "8                 Cafe  Pizza, Mocktails, Coffee, Nachos, Salad, Pasta...   \n",
       "9                 Cafe  Waffles, Pasta, Coleslaw Sandwich, Choco Waffl...   \n",
       "\n",
       "                                      cuisines approx_cost(for two people)  \\\n",
       "0               North Indian, Mughlai, Chinese                         800   \n",
       "1                  Chinese, North Indian, Thai                         800   \n",
       "2                       Cafe, Mexican, Italian                         800   \n",
       "3                   South Indian, North Indian                         300   \n",
       "4                     North Indian, Rajasthani                         600   \n",
       "5                                 North Indian                         600   \n",
       "6  North Indian, South Indian, Andhra, Chinese                         800   \n",
       "7                         Pizza, Cafe, Italian                         600   \n",
       "8                   Cafe, Italian, Continental                         700   \n",
       "9     Cafe, Mexican, Italian, Momos, Beverages                         550   \n",
       "\n",
       "                                        reviews_list menu_item  \\\n",
       "0  [('Rated 4.0', 'RATED\\n  A beautiful place to ...        []   \n",
       "1  [('Rated 4.0', 'RATED\\n  Had been here for din...        []   \n",
       "2  [('Rated 3.0', \"RATED\\n  Ambience is not that ...        []   \n",
       "3  [('Rated 4.0', \"RATED\\n  Great food and proper...        []   \n",
       "4  [('Rated 4.0', 'RATED\\n  Very good restaurant ...        []   \n",
       "5  [('Rated 3.0', 'RATED\\n  Food 3/5\\nAmbience 3/...        []   \n",
       "6  [('Rated 5.0', 'RATED\\n  Awesome food ??Great ...        []   \n",
       "7  [('Rated 5.0', 'RATED\\n  I personally really l...        []   \n",
       "8  [('Rated 3.0', \"RATED\\n  I had been to this pl...        []   \n",
       "9  [('Rated 4.0', \"RATED\\n  Easy to locate\\nVFM 3...        []   \n",
       "\n",
       "  listed_in(type) listed_in(city)  \n",
       "0          Buffet    Banashankari  \n",
       "1          Buffet    Banashankari  \n",
       "2          Buffet    Banashankari  \n",
       "3          Buffet    Banashankari  \n",
       "4          Buffet    Banashankari  \n",
       "5          Buffet    Banashankari  \n",
       "6          Buffet    Banashankari  \n",
       "7           Cafes    Banashankari  \n",
       "8           Cafes    Banashankari  \n",
       "9           Cafes    Banashankari  "
      ]
     },
     "execution_count": 2,
     "metadata": {},
     "output_type": "execute_result"
    }
   ],
   "source": [
    "df=pd.read_csv('/kaggle/input/zomato-eda/zomato.csv')\n",
    "df.head(10)"
   ]
  },
  {
   "cell_type": "markdown",
   "id": "03a3a549",
   "metadata": {
    "papermill": {
     "duration": 0.01371,
     "end_time": "2023-06-22T08:15:33.861064",
     "exception": false,
     "start_time": "2023-06-22T08:15:33.847354",
     "status": "completed"
    },
    "tags": []
   },
   "source": [
    "DATA CLEANING"
   ]
  },
  {
   "cell_type": "code",
   "execution_count": 3,
   "id": "5924237f",
   "metadata": {
    "execution": {
     "iopub.execute_input": "2023-06-22T08:15:33.891333Z",
     "iopub.status.busy": "2023-06-22T08:15:33.890657Z",
     "iopub.status.idle": "2023-06-22T08:15:33.897305Z",
     "shell.execute_reply": "2023-06-22T08:15:33.896278Z"
    },
    "papermill": {
     "duration": 0.024604,
     "end_time": "2023-06-22T08:15:33.899698",
     "exception": false,
     "start_time": "2023-06-22T08:15:33.875094",
     "status": "completed"
    },
    "tags": []
   },
   "outputs": [
    {
     "data": {
      "text/plain": [
       "(51717, 17)"
      ]
     },
     "execution_count": 3,
     "metadata": {},
     "output_type": "execute_result"
    }
   ],
   "source": [
    "df.shape"
   ]
  },
  {
   "cell_type": "code",
   "execution_count": 4,
   "id": "afacf90a",
   "metadata": {
    "execution": {
     "iopub.execute_input": "2023-06-22T08:15:33.931562Z",
     "iopub.status.busy": "2023-06-22T08:15:33.930936Z",
     "iopub.status.idle": "2023-06-22T08:15:33.938014Z",
     "shell.execute_reply": "2023-06-22T08:15:33.936813Z"
    },
    "papermill": {
     "duration": 0.025502,
     "end_time": "2023-06-22T08:15:33.940277",
     "exception": false,
     "start_time": "2023-06-22T08:15:33.914775",
     "status": "completed"
    },
    "tags": []
   },
   "outputs": [
    {
     "data": {
      "text/plain": [
       "Index(['url', 'address', 'name', 'online_order', 'book_table', 'rate', 'votes',\n",
       "       'phone', 'location', 'rest_type', 'dish_liked', 'cuisines',\n",
       "       'approx_cost(for two people)', 'reviews_list', 'menu_item',\n",
       "       'listed_in(type)', 'listed_in(city)'],\n",
       "      dtype='object')"
      ]
     },
     "execution_count": 4,
     "metadata": {},
     "output_type": "execute_result"
    }
   ],
   "source": [
    "df.columns"
   ]
  },
  {
   "cell_type": "code",
   "execution_count": 5,
   "id": "03fa70b8",
   "metadata": {
    "execution": {
     "iopub.execute_input": "2023-06-22T08:15:33.971955Z",
     "iopub.status.busy": "2023-06-22T08:15:33.970984Z",
     "iopub.status.idle": "2023-06-22T08:15:33.991414Z",
     "shell.execute_reply": "2023-06-22T08:15:33.990112Z"
    },
    "papermill": {
     "duration": 0.039261,
     "end_time": "2023-06-22T08:15:33.994286",
     "exception": false,
     "start_time": "2023-06-22T08:15:33.955025",
     "status": "completed"
    },
    "tags": []
   },
   "outputs": [],
   "source": [
    "df.drop(['url','address','phone'],axis=1,inplace=True)"
   ]
  },
  {
   "cell_type": "code",
   "execution_count": 6,
   "id": "2a6decc7",
   "metadata": {
    "execution": {
     "iopub.execute_input": "2023-06-22T08:15:34.024919Z",
     "iopub.status.busy": "2023-06-22T08:15:34.024526Z",
     "iopub.status.idle": "2023-06-22T08:15:34.031958Z",
     "shell.execute_reply": "2023-06-22T08:15:34.030659Z"
    },
    "papermill": {
     "duration": 0.025612,
     "end_time": "2023-06-22T08:15:34.034295",
     "exception": false,
     "start_time": "2023-06-22T08:15:34.008683",
     "status": "completed"
    },
    "tags": []
   },
   "outputs": [],
   "source": [
    "df.rename(columns={'name':'restaurant','approx_cost(for two people)':'approx_cost','reviews_list':'reviews','menu_item':'menu','listed_in(type)':'type','listed_in(city)':'city'},inplace=True)"
   ]
  },
  {
   "cell_type": "code",
   "execution_count": 7,
   "id": "927452e4",
   "metadata": {
    "execution": {
     "iopub.execute_input": "2023-06-22T08:15:34.065432Z",
     "iopub.status.busy": "2023-06-22T08:15:34.065057Z",
     "iopub.status.idle": "2023-06-22T08:15:36.097094Z",
     "shell.execute_reply": "2023-06-22T08:15:36.095842Z"
    },
    "papermill": {
     "duration": 2.051082,
     "end_time": "2023-06-22T08:15:36.100058",
     "exception": false,
     "start_time": "2023-06-22T08:15:34.048976",
     "status": "completed"
    },
    "tags": []
   },
   "outputs": [],
   "source": [
    "df.drop_duplicates(inplace=True)"
   ]
  },
  {
   "cell_type": "code",
   "execution_count": null,
   "id": "248485c0",
   "metadata": {
    "papermill": {
     "duration": 0.014339,
     "end_time": "2023-06-22T08:15:36.128895",
     "exception": false,
     "start_time": "2023-06-22T08:15:36.114556",
     "status": "completed"
    },
    "tags": []
   },
   "outputs": [],
   "source": []
  },
  {
   "cell_type": "code",
   "execution_count": 8,
   "id": "048ac403",
   "metadata": {
    "execution": {
     "iopub.execute_input": "2023-06-22T08:15:36.159639Z",
     "iopub.status.busy": "2023-06-22T08:15:36.159190Z",
     "iopub.status.idle": "2023-06-22T08:15:36.381262Z",
     "shell.execute_reply": "2023-06-22T08:15:36.380041Z"
    },
    "papermill": {
     "duration": 0.240725,
     "end_time": "2023-06-22T08:15:36.384131",
     "exception": false,
     "start_time": "2023-06-22T08:15:36.143406",
     "status": "completed"
    },
    "tags": []
   },
   "outputs": [
    {
     "data": {
      "text/plain": [
       "restaurant          0\n",
       "online_order        0\n",
       "book_table          0\n",
       "rate             7760\n",
       "votes               0\n",
       "location           21\n",
       "rest_type         227\n",
       "dish_liked      28027\n",
       "cuisines           45\n",
       "approx_cost       345\n",
       "reviews             0\n",
       "menu                0\n",
       "type                0\n",
       "city                0\n",
       "dtype: int64"
      ]
     },
     "execution_count": 8,
     "metadata": {},
     "output_type": "execute_result"
    }
   ],
   "source": [
    "df.isnull().sum()"
   ]
  },
  {
   "cell_type": "code",
   "execution_count": 9,
   "id": "bfc4a3f6",
   "metadata": {
    "execution": {
     "iopub.execute_input": "2023-06-22T08:15:36.415237Z",
     "iopub.status.busy": "2023-06-22T08:15:36.414862Z",
     "iopub.status.idle": "2023-06-22T08:15:36.421311Z",
     "shell.execute_reply": "2023-06-22T08:15:36.420063Z"
    },
    "papermill": {
     "duration": 0.024998,
     "end_time": "2023-06-22T08:15:36.423928",
     "exception": false,
     "start_time": "2023-06-22T08:15:36.398930",
     "status": "completed"
    },
    "tags": []
   },
   "outputs": [],
   "source": [
    "df.set_index('restaurant',inplace=True)"
   ]
  },
  {
   "cell_type": "code",
   "execution_count": 10,
   "id": "b291808e",
   "metadata": {
    "execution": {
     "iopub.execute_input": "2023-06-22T08:15:36.454672Z",
     "iopub.status.busy": "2023-06-22T08:15:36.454296Z",
     "iopub.status.idle": "2023-06-22T08:15:36.462784Z",
     "shell.execute_reply": "2023-06-22T08:15:36.461781Z"
    },
    "papermill": {
     "duration": 0.026845,
     "end_time": "2023-06-22T08:15:36.465258",
     "exception": false,
     "start_time": "2023-06-22T08:15:36.438413",
     "status": "completed"
    },
    "tags": []
   },
   "outputs": [
    {
     "data": {
      "text/plain": [
       "online_order    object\n",
       "book_table      object\n",
       "rate            object\n",
       "votes            int64\n",
       "location        object\n",
       "rest_type       object\n",
       "dish_liked      object\n",
       "cuisines        object\n",
       "approx_cost     object\n",
       "reviews         object\n",
       "menu            object\n",
       "type            object\n",
       "city            object\n",
       "dtype: object"
      ]
     },
     "execution_count": 10,
     "metadata": {},
     "output_type": "execute_result"
    }
   ],
   "source": [
    "df.dtypes"
   ]
  },
  {
   "cell_type": "code",
   "execution_count": 11,
   "id": "6945d75b",
   "metadata": {
    "execution": {
     "iopub.execute_input": "2023-06-22T08:15:36.498685Z",
     "iopub.status.busy": "2023-06-22T08:15:36.497660Z",
     "iopub.status.idle": "2023-06-22T08:15:36.502700Z",
     "shell.execute_reply": "2023-06-22T08:15:36.501566Z"
    },
    "papermill": {
     "duration": 0.023901,
     "end_time": "2023-06-22T08:15:36.505487",
     "exception": false,
     "start_time": "2023-06-22T08:15:36.481586",
     "status": "completed"
    },
    "tags": []
   },
   "outputs": [],
   "source": [
    "# df['rate'].str.replace(r' /5','',regex=True).str.replace('NEW|-','0').unique()#.astype('float')"
   ]
  },
  {
   "cell_type": "code",
   "execution_count": 12,
   "id": "bd5227c1",
   "metadata": {
    "execution": {
     "iopub.execute_input": "2023-06-22T08:15:36.537710Z",
     "iopub.status.busy": "2023-06-22T08:15:36.537283Z",
     "iopub.status.idle": "2023-06-22T08:15:36.817175Z",
     "shell.execute_reply": "2023-06-22T08:15:36.815950Z"
    },
    "papermill": {
     "duration": 0.299836,
     "end_time": "2023-06-22T08:15:36.820377",
     "exception": false,
     "start_time": "2023-06-22T08:15:36.520541",
     "status": "completed"
    },
    "tags": []
   },
   "outputs": [],
   "source": [
    "df['rate'].replace({\"/5\":'','NEW|-':'0'},regex=True,inplace=True)\n",
    "df['rate']= df['rate'].astype('float')\n"
   ]
  },
  {
   "cell_type": "markdown",
   "id": "f199545b",
   "metadata": {
    "papermill": {
     "duration": 0.014283,
     "end_time": "2023-06-22T08:15:36.849687",
     "exception": false,
     "start_time": "2023-06-22T08:15:36.835404",
     "status": "completed"
    },
    "tags": []
   },
   "source": []
  },
  {
   "cell_type": "markdown",
   "id": "58684733",
   "metadata": {
    "papermill": {
     "duration": 0.015022,
     "end_time": "2023-06-22T08:15:36.880246",
     "exception": false,
     "start_time": "2023-06-22T08:15:36.865224",
     "status": "completed"
    },
    "tags": []
   },
   "source": []
  },
  {
   "cell_type": "code",
   "execution_count": 13,
   "id": "2c404f0e",
   "metadata": {
    "execution": {
     "iopub.execute_input": "2023-06-22T08:15:36.912220Z",
     "iopub.status.busy": "2023-06-22T08:15:36.911813Z",
     "iopub.status.idle": "2023-06-22T08:15:36.923337Z",
     "shell.execute_reply": "2023-06-22T08:15:36.921933Z"
    },
    "papermill": {
     "duration": 0.030906,
     "end_time": "2023-06-22T08:15:36.926278",
     "exception": false,
     "start_time": "2023-06-22T08:15:36.895372",
     "status": "completed"
    },
    "tags": []
   },
   "outputs": [],
   "source": [
    "df['menu'].replace('[]','N/A',inplace=True)"
   ]
  },
  {
   "cell_type": "code",
   "execution_count": 14,
   "id": "da2d36f3",
   "metadata": {
    "execution": {
     "iopub.execute_input": "2023-06-22T08:15:36.959610Z",
     "iopub.status.busy": "2023-06-22T08:15:36.958801Z",
     "iopub.status.idle": "2023-06-22T08:15:37.077896Z",
     "shell.execute_reply": "2023-06-22T08:15:37.076740Z"
    },
    "papermill": {
     "duration": 0.139122,
     "end_time": "2023-06-22T08:15:37.080540",
     "exception": false,
     "start_time": "2023-06-22T08:15:36.941418",
     "status": "completed"
    },
    "tags": []
   },
   "outputs": [],
   "source": [
    "df['approx_cost'].replace(r',','',regex=True,inplace=True)\n",
    "df['approx_cost']=df['approx_cost'].astype('float')\n"
   ]
  },
  {
   "cell_type": "markdown",
   "id": "daf7544f",
   "metadata": {
    "papermill": {
     "duration": 0.015902,
     "end_time": "2023-06-22T08:15:37.111221",
     "exception": false,
     "start_time": "2023-06-22T08:15:37.095319",
     "status": "completed"
    },
    "tags": []
   },
   "source": [
    "DATA VISUALISATION"
   ]
  },
  {
   "cell_type": "code",
   "execution_count": 15,
   "id": "8f0239b2",
   "metadata": {
    "execution": {
     "iopub.execute_input": "2023-06-22T08:15:37.142600Z",
     "iopub.status.busy": "2023-06-22T08:15:37.142204Z",
     "iopub.status.idle": "2023-06-22T08:15:37.150132Z",
     "shell.execute_reply": "2023-06-22T08:15:37.149285Z"
    },
    "papermill": {
     "duration": 0.026433,
     "end_time": "2023-06-22T08:15:37.152443",
     "exception": false,
     "start_time": "2023-06-22T08:15:37.126010",
     "status": "completed"
    },
    "tags": []
   },
   "outputs": [
    {
     "data": {
      "text/plain": [
       "online_order     object\n",
       "book_table       object\n",
       "rate            float64\n",
       "votes             int64\n",
       "location         object\n",
       "rest_type        object\n",
       "dish_liked       object\n",
       "cuisines         object\n",
       "approx_cost     float64\n",
       "reviews          object\n",
       "menu             object\n",
       "type             object\n",
       "city             object\n",
       "dtype: object"
      ]
     },
     "execution_count": 15,
     "metadata": {},
     "output_type": "execute_result"
    }
   ],
   "source": [
    "df.dtypes"
   ]
  },
  {
   "cell_type": "code",
   "execution_count": 16,
   "id": "3fbc0d50",
   "metadata": {
    "execution": {
     "iopub.execute_input": "2023-06-22T08:15:37.183736Z",
     "iopub.status.busy": "2023-06-22T08:15:37.183336Z",
     "iopub.status.idle": "2023-06-22T08:15:37.210922Z",
     "shell.execute_reply": "2023-06-22T08:15:37.209790Z"
    },
    "papermill": {
     "duration": 0.046267,
     "end_time": "2023-06-22T08:15:37.213603",
     "exception": false,
     "start_time": "2023-06-22T08:15:37.167336",
     "status": "completed"
    },
    "tags": []
   },
   "outputs": [
    {
     "data": {
      "text/html": [
       "<div>\n",
       "<style scoped>\n",
       "    .dataframe tbody tr th:only-of-type {\n",
       "        vertical-align: middle;\n",
       "    }\n",
       "\n",
       "    .dataframe tbody tr th {\n",
       "        vertical-align: top;\n",
       "    }\n",
       "\n",
       "    .dataframe thead th {\n",
       "        text-align: right;\n",
       "    }\n",
       "</style>\n",
       "<table border=\"1\" class=\"dataframe\">\n",
       "  <thead>\n",
       "    <tr style=\"text-align: right;\">\n",
       "      <th></th>\n",
       "      <th>online_order</th>\n",
       "      <th>book_table</th>\n",
       "      <th>rate</th>\n",
       "      <th>votes</th>\n",
       "      <th>location</th>\n",
       "      <th>rest_type</th>\n",
       "      <th>dish_liked</th>\n",
       "      <th>cuisines</th>\n",
       "      <th>approx_cost</th>\n",
       "      <th>reviews</th>\n",
       "      <th>menu</th>\n",
       "      <th>type</th>\n",
       "      <th>city</th>\n",
       "    </tr>\n",
       "    <tr>\n",
       "      <th>restaurant</th>\n",
       "      <th></th>\n",
       "      <th></th>\n",
       "      <th></th>\n",
       "      <th></th>\n",
       "      <th></th>\n",
       "      <th></th>\n",
       "      <th></th>\n",
       "      <th></th>\n",
       "      <th></th>\n",
       "      <th></th>\n",
       "      <th></th>\n",
       "      <th></th>\n",
       "      <th></th>\n",
       "    </tr>\n",
       "  </thead>\n",
       "  <tbody>\n",
       "    <tr>\n",
       "      <th>Jalsa</th>\n",
       "      <td>Yes</td>\n",
       "      <td>Yes</td>\n",
       "      <td>4.1</td>\n",
       "      <td>775</td>\n",
       "      <td>Banashankari</td>\n",
       "      <td>Casual Dining</td>\n",
       "      <td>Pasta, Lunch Buffet, Masala Papad, Paneer Laja...</td>\n",
       "      <td>North Indian, Mughlai, Chinese</td>\n",
       "      <td>800.0</td>\n",
       "      <td>[('Rated 4.0', 'RATED\\n  A beautiful place to ...</td>\n",
       "      <td>N/A</td>\n",
       "      <td>Buffet</td>\n",
       "      <td>Banashankari</td>\n",
       "    </tr>\n",
       "    <tr>\n",
       "      <th>Spice Elephant</th>\n",
       "      <td>Yes</td>\n",
       "      <td>No</td>\n",
       "      <td>4.1</td>\n",
       "      <td>787</td>\n",
       "      <td>Banashankari</td>\n",
       "      <td>Casual Dining</td>\n",
       "      <td>Momos, Lunch Buffet, Chocolate Nirvana, Thai G...</td>\n",
       "      <td>Chinese, North Indian, Thai</td>\n",
       "      <td>800.0</td>\n",
       "      <td>[('Rated 4.0', 'RATED\\n  Had been here for din...</td>\n",
       "      <td>N/A</td>\n",
       "      <td>Buffet</td>\n",
       "      <td>Banashankari</td>\n",
       "    </tr>\n",
       "    <tr>\n",
       "      <th>San Churro Cafe</th>\n",
       "      <td>Yes</td>\n",
       "      <td>No</td>\n",
       "      <td>3.8</td>\n",
       "      <td>918</td>\n",
       "      <td>Banashankari</td>\n",
       "      <td>Cafe, Casual Dining</td>\n",
       "      <td>Churros, Cannelloni, Minestrone Soup, Hot Choc...</td>\n",
       "      <td>Cafe, Mexican, Italian</td>\n",
       "      <td>800.0</td>\n",
       "      <td>[('Rated 3.0', \"RATED\\n  Ambience is not that ...</td>\n",
       "      <td>N/A</td>\n",
       "      <td>Buffet</td>\n",
       "      <td>Banashankari</td>\n",
       "    </tr>\n",
       "    <tr>\n",
       "      <th>Addhuri Udupi Bhojana</th>\n",
       "      <td>No</td>\n",
       "      <td>No</td>\n",
       "      <td>3.7</td>\n",
       "      <td>88</td>\n",
       "      <td>Banashankari</td>\n",
       "      <td>Quick Bites</td>\n",
       "      <td>Masala Dosa</td>\n",
       "      <td>South Indian, North Indian</td>\n",
       "      <td>300.0</td>\n",
       "      <td>[('Rated 4.0', \"RATED\\n  Great food and proper...</td>\n",
       "      <td>N/A</td>\n",
       "      <td>Buffet</td>\n",
       "      <td>Banashankari</td>\n",
       "    </tr>\n",
       "    <tr>\n",
       "      <th>Grand Village</th>\n",
       "      <td>No</td>\n",
       "      <td>No</td>\n",
       "      <td>3.8</td>\n",
       "      <td>166</td>\n",
       "      <td>Basavanagudi</td>\n",
       "      <td>Casual Dining</td>\n",
       "      <td>Panipuri, Gol Gappe</td>\n",
       "      <td>North Indian, Rajasthani</td>\n",
       "      <td>600.0</td>\n",
       "      <td>[('Rated 4.0', 'RATED\\n  Very good restaurant ...</td>\n",
       "      <td>N/A</td>\n",
       "      <td>Buffet</td>\n",
       "      <td>Banashankari</td>\n",
       "    </tr>\n",
       "    <tr>\n",
       "      <th>...</th>\n",
       "      <td>...</td>\n",
       "      <td>...</td>\n",
       "      <td>...</td>\n",
       "      <td>...</td>\n",
       "      <td>...</td>\n",
       "      <td>...</td>\n",
       "      <td>...</td>\n",
       "      <td>...</td>\n",
       "      <td>...</td>\n",
       "      <td>...</td>\n",
       "      <td>...</td>\n",
       "      <td>...</td>\n",
       "      <td>...</td>\n",
       "    </tr>\n",
       "    <tr>\n",
       "      <th>Best Brews - Four Points by Sheraton Bengaluru...</th>\n",
       "      <td>No</td>\n",
       "      <td>No</td>\n",
       "      <td>3.6</td>\n",
       "      <td>27</td>\n",
       "      <td>Whitefield</td>\n",
       "      <td>Bar</td>\n",
       "      <td>NaN</td>\n",
       "      <td>Continental</td>\n",
       "      <td>1500.0</td>\n",
       "      <td>[('Rated 5.0', \"RATED\\n  Food and service are ...</td>\n",
       "      <td>N/A</td>\n",
       "      <td>Pubs and bars</td>\n",
       "      <td>Whitefield</td>\n",
       "    </tr>\n",
       "    <tr>\n",
       "      <th>Vinod Bar And Restaurant</th>\n",
       "      <td>No</td>\n",
       "      <td>No</td>\n",
       "      <td>NaN</td>\n",
       "      <td>0</td>\n",
       "      <td>Whitefield</td>\n",
       "      <td>Bar</td>\n",
       "      <td>NaN</td>\n",
       "      <td>Finger Food</td>\n",
       "      <td>600.0</td>\n",
       "      <td>[]</td>\n",
       "      <td>N/A</td>\n",
       "      <td>Pubs and bars</td>\n",
       "      <td>Whitefield</td>\n",
       "    </tr>\n",
       "    <tr>\n",
       "      <th>Plunge - Sheraton Grand Bengaluru Whitefield Hotel &amp;...</th>\n",
       "      <td>No</td>\n",
       "      <td>No</td>\n",
       "      <td>NaN</td>\n",
       "      <td>0</td>\n",
       "      <td>Whitefield</td>\n",
       "      <td>Bar</td>\n",
       "      <td>NaN</td>\n",
       "      <td>Finger Food</td>\n",
       "      <td>2000.0</td>\n",
       "      <td>[]</td>\n",
       "      <td>N/A</td>\n",
       "      <td>Pubs and bars</td>\n",
       "      <td>Whitefield</td>\n",
       "    </tr>\n",
       "    <tr>\n",
       "      <th>Chime - Sheraton Grand Bengaluru Whitefield Hotel &amp;...</th>\n",
       "      <td>No</td>\n",
       "      <td>Yes</td>\n",
       "      <td>4.3</td>\n",
       "      <td>236</td>\n",
       "      <td>ITPL Main Road, Whitefield</td>\n",
       "      <td>Bar</td>\n",
       "      <td>Cocktails, Pizza, Buttermilk</td>\n",
       "      <td>Finger Food</td>\n",
       "      <td>2500.0</td>\n",
       "      <td>[('Rated 4.0', 'RATED\\n  Nice and friendly pla...</td>\n",
       "      <td>N/A</td>\n",
       "      <td>Pubs and bars</td>\n",
       "      <td>Whitefield</td>\n",
       "    </tr>\n",
       "    <tr>\n",
       "      <th>The Nest - The Den Bengaluru</th>\n",
       "      <td>No</td>\n",
       "      <td>No</td>\n",
       "      <td>3.4</td>\n",
       "      <td>13</td>\n",
       "      <td>ITPL Main Road, Whitefield</td>\n",
       "      <td>Bar, Casual Dining</td>\n",
       "      <td>NaN</td>\n",
       "      <td>Finger Food, North Indian, Continental</td>\n",
       "      <td>1500.0</td>\n",
       "      <td>[('Rated 5.0', 'RATED\\n  Great ambience , look...</td>\n",
       "      <td>N/A</td>\n",
       "      <td>Pubs and bars</td>\n",
       "      <td>Whitefield</td>\n",
       "    </tr>\n",
       "  </tbody>\n",
       "</table>\n",
       "<p>51654 rows × 13 columns</p>\n",
       "</div>"
      ],
      "text/plain": [
       "                                                   online_order book_table  \\\n",
       "restaurant                                                                   \n",
       "Jalsa                                                       Yes        Yes   \n",
       "Spice Elephant                                              Yes         No   \n",
       "San Churro Cafe                                             Yes         No   \n",
       "Addhuri Udupi Bhojana                                        No         No   \n",
       "Grand Village                                                No         No   \n",
       "...                                                         ...        ...   \n",
       "Best Brews - Four Points by Sheraton Bengaluru...            No         No   \n",
       "Vinod Bar And Restaurant                                     No         No   \n",
       "Plunge - Sheraton Grand Bengaluru Whitefield Ho...           No         No   \n",
       "Chime - Sheraton Grand Bengaluru Whitefield Hot...           No        Yes   \n",
       "The Nest - The Den Bengaluru                                 No         No   \n",
       "\n",
       "                                                    rate  votes  \\\n",
       "restaurant                                                        \n",
       "Jalsa                                                4.1    775   \n",
       "Spice Elephant                                       4.1    787   \n",
       "San Churro Cafe                                      3.8    918   \n",
       "Addhuri Udupi Bhojana                                3.7     88   \n",
       "Grand Village                                        3.8    166   \n",
       "...                                                  ...    ...   \n",
       "Best Brews - Four Points by Sheraton Bengaluru...    3.6     27   \n",
       "Vinod Bar And Restaurant                             NaN      0   \n",
       "Plunge - Sheraton Grand Bengaluru Whitefield Ho...   NaN      0   \n",
       "Chime - Sheraton Grand Bengaluru Whitefield Hot...   4.3    236   \n",
       "The Nest - The Den Bengaluru                         3.4     13   \n",
       "\n",
       "                                                                      location  \\\n",
       "restaurant                                                                       \n",
       "Jalsa                                                             Banashankari   \n",
       "Spice Elephant                                                    Banashankari   \n",
       "San Churro Cafe                                                   Banashankari   \n",
       "Addhuri Udupi Bhojana                                             Banashankari   \n",
       "Grand Village                                                     Basavanagudi   \n",
       "...                                                                        ...   \n",
       "Best Brews - Four Points by Sheraton Bengaluru...                   Whitefield   \n",
       "Vinod Bar And Restaurant                                            Whitefield   \n",
       "Plunge - Sheraton Grand Bengaluru Whitefield Ho...                  Whitefield   \n",
       "Chime - Sheraton Grand Bengaluru Whitefield Hot...  ITPL Main Road, Whitefield   \n",
       "The Nest - The Den Bengaluru                        ITPL Main Road, Whitefield   \n",
       "\n",
       "                                                              rest_type  \\\n",
       "restaurant                                                                \n",
       "Jalsa                                                     Casual Dining   \n",
       "Spice Elephant                                            Casual Dining   \n",
       "San Churro Cafe                                     Cafe, Casual Dining   \n",
       "Addhuri Udupi Bhojana                                       Quick Bites   \n",
       "Grand Village                                             Casual Dining   \n",
       "...                                                                 ...   \n",
       "Best Brews - Four Points by Sheraton Bengaluru...                   Bar   \n",
       "Vinod Bar And Restaurant                                            Bar   \n",
       "Plunge - Sheraton Grand Bengaluru Whitefield Ho...                  Bar   \n",
       "Chime - Sheraton Grand Bengaluru Whitefield Hot...                  Bar   \n",
       "The Nest - The Den Bengaluru                         Bar, Casual Dining   \n",
       "\n",
       "                                                                                           dish_liked  \\\n",
       "restaurant                                                                                              \n",
       "Jalsa                                               Pasta, Lunch Buffet, Masala Papad, Paneer Laja...   \n",
       "Spice Elephant                                      Momos, Lunch Buffet, Chocolate Nirvana, Thai G...   \n",
       "San Churro Cafe                                     Churros, Cannelloni, Minestrone Soup, Hot Choc...   \n",
       "Addhuri Udupi Bhojana                                                                     Masala Dosa   \n",
       "Grand Village                                                                     Panipuri, Gol Gappe   \n",
       "...                                                                                               ...   \n",
       "Best Brews - Four Points by Sheraton Bengaluru...                                                 NaN   \n",
       "Vinod Bar And Restaurant                                                                          NaN   \n",
       "Plunge - Sheraton Grand Bengaluru Whitefield Ho...                                                NaN   \n",
       "Chime - Sheraton Grand Bengaluru Whitefield Hot...                       Cocktails, Pizza, Buttermilk   \n",
       "The Nest - The Den Bengaluru                                                                      NaN   \n",
       "\n",
       "                                                                                  cuisines  \\\n",
       "restaurant                                                                                   \n",
       "Jalsa                                                       North Indian, Mughlai, Chinese   \n",
       "Spice Elephant                                                 Chinese, North Indian, Thai   \n",
       "San Churro Cafe                                                     Cafe, Mexican, Italian   \n",
       "Addhuri Udupi Bhojana                                           South Indian, North Indian   \n",
       "Grand Village                                                     North Indian, Rajasthani   \n",
       "...                                                                                    ...   \n",
       "Best Brews - Four Points by Sheraton Bengaluru...                              Continental   \n",
       "Vinod Bar And Restaurant                                                       Finger Food   \n",
       "Plunge - Sheraton Grand Bengaluru Whitefield Ho...                             Finger Food   \n",
       "Chime - Sheraton Grand Bengaluru Whitefield Hot...                             Finger Food   \n",
       "The Nest - The Den Bengaluru                        Finger Food, North Indian, Continental   \n",
       "\n",
       "                                                    approx_cost  \\\n",
       "restaurant                                                        \n",
       "Jalsa                                                     800.0   \n",
       "Spice Elephant                                            800.0   \n",
       "San Churro Cafe                                           800.0   \n",
       "Addhuri Udupi Bhojana                                     300.0   \n",
       "Grand Village                                             600.0   \n",
       "...                                                         ...   \n",
       "Best Brews - Four Points by Sheraton Bengaluru...        1500.0   \n",
       "Vinod Bar And Restaurant                                  600.0   \n",
       "Plunge - Sheraton Grand Bengaluru Whitefield Ho...       2000.0   \n",
       "Chime - Sheraton Grand Bengaluru Whitefield Hot...       2500.0   \n",
       "The Nest - The Den Bengaluru                             1500.0   \n",
       "\n",
       "                                                                                              reviews  \\\n",
       "restaurant                                                                                              \n",
       "Jalsa                                               [('Rated 4.0', 'RATED\\n  A beautiful place to ...   \n",
       "Spice Elephant                                      [('Rated 4.0', 'RATED\\n  Had been here for din...   \n",
       "San Churro Cafe                                     [('Rated 3.0', \"RATED\\n  Ambience is not that ...   \n",
       "Addhuri Udupi Bhojana                               [('Rated 4.0', \"RATED\\n  Great food and proper...   \n",
       "Grand Village                                       [('Rated 4.0', 'RATED\\n  Very good restaurant ...   \n",
       "...                                                                                               ...   \n",
       "Best Brews - Four Points by Sheraton Bengaluru...   [('Rated 5.0', \"RATED\\n  Food and service are ...   \n",
       "Vinod Bar And Restaurant                                                                           []   \n",
       "Plunge - Sheraton Grand Bengaluru Whitefield Ho...                                                 []   \n",
       "Chime - Sheraton Grand Bengaluru Whitefield Hot...  [('Rated 4.0', 'RATED\\n  Nice and friendly pla...   \n",
       "The Nest - The Den Bengaluru                        [('Rated 5.0', 'RATED\\n  Great ambience , look...   \n",
       "\n",
       "                                                   menu           type  \\\n",
       "restaurant                                                               \n",
       "Jalsa                                               N/A         Buffet   \n",
       "Spice Elephant                                      N/A         Buffet   \n",
       "San Churro Cafe                                     N/A         Buffet   \n",
       "Addhuri Udupi Bhojana                               N/A         Buffet   \n",
       "Grand Village                                       N/A         Buffet   \n",
       "...                                                 ...            ...   \n",
       "Best Brews - Four Points by Sheraton Bengaluru...   N/A  Pubs and bars   \n",
       "Vinod Bar And Restaurant                            N/A  Pubs and bars   \n",
       "Plunge - Sheraton Grand Bengaluru Whitefield Ho...  N/A  Pubs and bars   \n",
       "Chime - Sheraton Grand Bengaluru Whitefield Hot...  N/A  Pubs and bars   \n",
       "The Nest - The Den Bengaluru                        N/A  Pubs and bars   \n",
       "\n",
       "                                                            city  \n",
       "restaurant                                                        \n",
       "Jalsa                                               Banashankari  \n",
       "Spice Elephant                                      Banashankari  \n",
       "San Churro Cafe                                     Banashankari  \n",
       "Addhuri Udupi Bhojana                               Banashankari  \n",
       "Grand Village                                       Banashankari  \n",
       "...                                                          ...  \n",
       "Best Brews - Four Points by Sheraton Bengaluru...     Whitefield  \n",
       "Vinod Bar And Restaurant                              Whitefield  \n",
       "Plunge - Sheraton Grand Bengaluru Whitefield Ho...    Whitefield  \n",
       "Chime - Sheraton Grand Bengaluru Whitefield Hot...    Whitefield  \n",
       "The Nest - The Den Bengaluru                          Whitefield  \n",
       "\n",
       "[51654 rows x 13 columns]"
      ]
     },
     "execution_count": 16,
     "metadata": {},
     "output_type": "execute_result"
    }
   ],
   "source": [
    "df"
   ]
  },
  {
   "cell_type": "code",
   "execution_count": 17,
   "id": "d9a041bd",
   "metadata": {
    "execution": {
     "iopub.execute_input": "2023-06-22T08:15:37.246842Z",
     "iopub.status.busy": "2023-06-22T08:15:37.246431Z",
     "iopub.status.idle": "2023-06-22T08:15:38.777070Z",
     "shell.execute_reply": "2023-06-22T08:15:38.776030Z"
    },
    "papermill": {
     "duration": 1.550644,
     "end_time": "2023-06-22T08:15:38.779995",
     "exception": false,
     "start_time": "2023-06-22T08:15:37.229351",
     "status": "completed"
    },
    "tags": []
   },
   "outputs": [],
   "source": [
    "import seaborn as sns\n",
    "import matplotlib.pyplot as plt\n",
    "%matplotlib inline"
   ]
  },
  {
   "cell_type": "markdown",
   "id": "00942cd8",
   "metadata": {
    "papermill": {
     "duration": 0.015614,
     "end_time": "2023-06-22T08:15:38.812803",
     "exception": false,
     "start_time": "2023-06-22T08:15:38.797189",
     "status": "completed"
    },
    "tags": []
   },
   "source": [
    "**Restaurant Delivering online or Not**"
   ]
  },
  {
   "cell_type": "code",
   "execution_count": 18,
   "id": "fea02c8a",
   "metadata": {
    "execution": {
     "iopub.execute_input": "2023-06-22T08:15:38.848244Z",
     "iopub.status.busy": "2023-06-22T08:15:38.847858Z",
     "iopub.status.idle": "2023-06-22T08:15:39.242357Z",
     "shell.execute_reply": "2023-06-22T08:15:39.241147Z"
    },
    "papermill": {
     "duration": 0.415104,
     "end_time": "2023-06-22T08:15:39.244915",
     "exception": false,
     "start_time": "2023-06-22T08:15:38.829811",
     "status": "completed"
    },
    "tags": []
   },
   "outputs": [
    {
     "data": {
      "text/plain": [
       "Text(0.5, 1.0, 'Restaurant Delivering Online or NoT')"
      ]
     },
     "execution_count": 18,
     "metadata": {},
     "output_type": "execute_result"
    },
    {
     "data": {
      "image/png": "[encoded data removed]",
      "text/plain": [
       "<Figure size 640x480 with 1 Axes>"
      ]
     },
     "metadata": {},
     "output_type": "display_data"
    }
   ],
   "source": [
    "sns.countplot(x='online_order',data=df).set_title('Restaurant Delivering Online or NoT')\n"
   ]
  },
  {
   "cell_type": "markdown",
   "id": "71b3b1e5",
   "metadata": {
    "papermill": {
     "duration": 0.016667,
     "end_time": "2023-06-22T08:15:39.278150",
     "exception": false,
     "start_time": "2023-06-22T08:15:39.261483",
     "status": "completed"
    },
    "tags": []
   },
   "source": [
    "From the above graph we can conclude that almost 30,000 restaurants have Online Delivery Service."
   ]
  },
  {
   "cell_type": "markdown",
   "id": "74031b42",
   "metadata": {
    "papermill": {
     "duration": 0.016088,
     "end_time": "2023-06-22T08:15:39.311683",
     "exception": false,
     "start_time": "2023-06-22T08:15:39.295595",
     "status": "completed"
    },
    "tags": []
   },
   "source": [
    "**Restaurants allowable table booking or not**"
   ]
  },
  {
   "cell_type": "code",
   "execution_count": 19,
   "id": "7bd710cc",
   "metadata": {
    "execution": {
     "iopub.execute_input": "2023-06-22T08:15:39.346333Z",
     "iopub.status.busy": "2023-06-22T08:15:39.345930Z",
     "iopub.status.idle": "2023-06-22T08:15:39.679968Z",
     "shell.execute_reply": "2023-06-22T08:15:39.679025Z"
    },
    "papermill": {
     "duration": 0.353977,
     "end_time": "2023-06-22T08:15:39.682352",
     "exception": false,
     "start_time": "2023-06-22T08:15:39.328375",
     "status": "completed"
    },
    "tags": []
   },
   "outputs": [
    {
     "data": {
      "text/plain": [
       "Text(0.5, 1.0, 'Restaurants Allowable Table booking or Not')"
      ]
     },
     "execution_count": 19,
     "metadata": {},
     "output_type": "execute_result"
    },
    {
     "data": {
      "image/png": "[encoded data removed]",
      "text/plain": [
       "<Figure size 640x480 with 1 Axes>"
      ]
     },
     "metadata": {},
     "output_type": "display_data"
    }
   ],
   "source": [
    "sns.countplot(x='book_table',data=df).set_title('Restaurants Allowable Table booking or Not')"
   ]
  },
  {
   "cell_type": "markdown",
   "id": "e1aa2f39",
   "metadata": {
    "papermill": {
     "duration": 0.01751,
     "end_time": "2023-06-22T08:15:39.716770",
     "exception": false,
     "start_time": "2023-06-22T08:15:39.699260",
     "status": "completed"
    },
    "tags": []
   },
   "source": [
    "From the above graph,we can say that more than 40,000 restaurants does not allow for tablew booking and very few restaurants are allow for table booking."
   ]
  },
  {
   "cell_type": "markdown",
   "id": "44e305ec",
   "metadata": {
    "papermill": {
     "duration": 0.017034,
     "end_time": "2023-06-22T08:15:39.751156",
     "exception": false,
     "start_time": "2023-06-22T08:15:39.734122",
     "status": "completed"
    },
    "tags": []
   },
   "source": []
  },
  {
   "cell_type": "code",
   "execution_count": 20,
   "id": "7fa58b42",
   "metadata": {
    "execution": {
     "iopub.execute_input": "2023-06-22T08:15:39.786975Z",
     "iopub.status.busy": "2023-06-22T08:15:39.786558Z",
     "iopub.status.idle": "2023-06-22T08:15:41.198611Z",
     "shell.execute_reply": "2023-06-22T08:15:41.197449Z"
    },
    "papermill": {
     "duration": 1.433125,
     "end_time": "2023-06-22T08:15:41.201388",
     "exception": false,
     "start_time": "2023-06-22T08:15:39.768263",
     "status": "completed"
    },
    "tags": []
   },
   "outputs": [
    {
     "data": {
      "text/plain": [
       "Text(0.5, 1.0, 'Table Booking Rate vs Rate')"
      ]
     },
     "execution_count": 20,
     "metadata": {},
     "output_type": "execute_result"
    },
    {
     "data": {
      "image/png": "[encoded data removed]",
      "text/plain": [
       "<Figure size 640x480 with 1 Axes>"
      ]
     },
     "metadata": {},
     "output_type": "display_data"
    }
   ],
   "source": [
    "sns.barplot(x='book_table',y='rate',data=df).set_title('Table Booking Rate vs Rate')\n"
   ]
  },
  {
   "cell_type": "markdown",
   "id": "8d67d1ba",
   "metadata": {
    "papermill": {
     "duration": 0.016892,
     "end_time": "2023-06-22T08:15:41.235483",
     "exception": false,
     "start_time": "2023-06-22T08:15:41.218591",
     "status": "completed"
    },
    "tags": []
   },
   "source": [
    "From the abovegraph,we can conclude that the restaurants which allows for table booking have the highest rate i.e. almost 4.0 and also the rate of restaurants which does not allows fortable booking having rate more than 3.0."
   ]
  },
  {
   "cell_type": "markdown",
   "id": "571eeddc",
   "metadata": {
    "papermill": {
     "duration": 0.017117,
     "end_time": "2023-06-22T08:15:41.270198",
     "exception": false,
     "start_time": "2023-06-22T08:15:41.253081",
     "status": "completed"
    },
    "tags": []
   },
   "source": [
    "**Best Location**"
   ]
  },
  {
   "cell_type": "code",
   "execution_count": 21,
   "id": "3240733f",
   "metadata": {
    "execution": {
     "iopub.execute_input": "2023-06-22T08:15:41.307809Z",
     "iopub.status.busy": "2023-06-22T08:15:41.306461Z",
     "iopub.status.idle": "2023-06-22T08:15:41.752392Z",
     "shell.execute_reply": "2023-06-22T08:15:41.751136Z"
    },
    "papermill": {
     "duration": 0.467743,
     "end_time": "2023-06-22T08:15:41.755264",
     "exception": false,
     "start_time": "2023-06-22T08:15:41.287521",
     "status": "completed"
    },
    "tags": []
   },
   "outputs": [
    {
     "data": {
      "text/plain": [
       "<Axes: title={'center': 'Best Location'}>"
      ]
     },
     "execution_count": 21,
     "metadata": {},
     "output_type": "execute_result"
    },
    {
     "data": {
      "image/png": "[encoded data removed]",
      "text/plain": [
       "<Figure size 640x480 with 1 Axes>"
      ]
     },
     "metadata": {},
     "output_type": "display_data"
    }
   ],
   "source": [
    "df['location'].value_counts().nlargest(10).plot(kind='bar',title='Best Location')\n"
   ]
  },
  {
   "cell_type": "markdown",
   "id": "a30dd65b",
   "metadata": {
    "papermill": {
     "duration": 0.017818,
     "end_time": "2023-06-22T08:15:41.791166",
     "exception": false,
     "start_time": "2023-06-22T08:15:41.773348",
     "status": "completed"
    },
    "tags": []
   },
   "source": [
    "From thew above graph ,we can say that, BTM is the best location as compared to other restaurants."
   ]
  },
  {
   "cell_type": "code",
   "execution_count": 22,
   "id": "c04d5fc6",
   "metadata": {
    "execution": {
     "iopub.execute_input": "2023-06-22T08:15:41.831162Z",
     "iopub.status.busy": "2023-06-22T08:15:41.830705Z",
     "iopub.status.idle": "2023-06-22T08:15:42.222944Z",
     "shell.execute_reply": "2023-06-22T08:15:42.221639Z"
    },
    "papermill": {
     "duration": 0.414407,
     "end_time": "2023-06-22T08:15:42.225519",
     "exception": false,
     "start_time": "2023-06-22T08:15:41.811112",
     "status": "completed"
    },
    "tags": []
   },
   "outputs": [
    {
     "data": {
      "text/plain": [
       "<Axes: title={'center': 'Relation between Location and Rate'}, xlabel='location'>"
      ]
     },
     "execution_count": 22,
     "metadata": {},
     "output_type": "execute_result"
    },
    {
     "data": {
      "image/png": "[encoded data removed]",
      "text/plain": [
       "<Figure size 640x480 with 1 Axes>"
      ]
     },
     "metadata": {},
     "output_type": "display_data"
    }
   ],
   "source": [
    "df.groupby('location')['rate'].mean().nlargest(5).plot(kind='line',title='Relation between Location and Rate')"
   ]
  },
  {
   "cell_type": "markdown",
   "id": "8952f5b4",
   "metadata": {
    "papermill": {
     "duration": 0.01888,
     "end_time": "2023-06-22T08:15:42.263109",
     "exception": false,
     "start_time": "2023-06-22T08:15:42.244229",
     "status": "completed"
    },
    "tags": []
   },
   "source": [
    "From the above graph,we can conclude that Lavelle Road has the highest rate as compared to other location."
   ]
  },
  {
   "cell_type": "markdown",
   "id": "c08f26d3",
   "metadata": {
    "papermill": {
     "duration": 0.018092,
     "end_time": "2023-06-22T08:15:42.299966",
     "exception": false,
     "start_time": "2023-06-22T08:15:42.281874",
     "status": "completed"
    },
    "tags": []
   },
   "source": [
    "**Restaurant Type**"
   ]
  },
  {
   "cell_type": "code",
   "execution_count": 23,
   "id": "b89849ea",
   "metadata": {
    "execution": {
     "iopub.execute_input": "2023-06-22T08:15:42.339944Z",
     "iopub.status.busy": "2023-06-22T08:15:42.339486Z",
     "iopub.status.idle": "2023-06-22T08:15:42.704639Z",
     "shell.execute_reply": "2023-06-22T08:15:42.703769Z"
    },
    "papermill": {
     "duration": 0.387395,
     "end_time": "2023-06-22T08:15:42.706893",
     "exception": false,
     "start_time": "2023-06-22T08:15:42.319498",
     "status": "completed"
    },
    "tags": []
   },
   "outputs": [
    {
     "data": {
      "text/plain": [
       "<Axes: title={'center': 'Restaurant Type'}>"
      ]
     },
     "execution_count": 23,
     "metadata": {},
     "output_type": "execute_result"
    },
    {
     "data": {
      "image/png": "[encoded data removed]",
      "text/plain": [
       "<Figure size 640x480 with 1 Axes>"
      ]
     },
     "metadata": {},
     "output_type": "display_data"
    }
   ],
   "source": [
    "df['rest_type'].value_counts().nlargest(5).plot(kind='bar',title='Restaurant Type')"
   ]
  },
  {
   "cell_type": "markdown",
   "id": "65d0bbce",
   "metadata": {
    "papermill": {
     "duration": 0.018973,
     "end_time": "2023-06-22T08:15:42.745067",
     "exception": false,
     "start_time": "2023-06-22T08:15:42.726094",
     "status": "completed"
    },
    "tags": []
   },
   "source": [
    "We can say that,the restaurant type Quick Bites has highest count as compared to others, as most of the people prefer restaurant type of Quick Bites."
   ]
  },
  {
   "cell_type": "code",
   "execution_count": null,
   "id": "1c6334bb",
   "metadata": {
    "papermill": {
     "duration": 0.019336,
     "end_time": "2023-06-22T08:15:42.784574",
     "exception": false,
     "start_time": "2023-06-22T08:15:42.765238",
     "status": "completed"
    },
    "tags": []
   },
   "outputs": [],
   "source": []
  },
  {
   "cell_type": "markdown",
   "id": "984132c8",
   "metadata": {
    "papermill": {
     "duration": 0.018811,
     "end_time": "2023-06-22T08:15:42.822631",
     "exception": false,
     "start_time": "2023-06-22T08:15:42.803820",
     "status": "completed"
    },
    "tags": []
   },
   "source": []
  },
  {
   "cell_type": "markdown",
   "id": "7ebed5fd",
   "metadata": {
    "papermill": {
     "duration": 0.018883,
     "end_time": "2023-06-22T08:15:42.860826",
     "exception": false,
     "start_time": "2023-06-22T08:15:42.841943",
     "status": "completed"
    },
    "tags": []
   },
   "source": [
    "**Gaussian Restaurant type and Rating**"
   ]
  },
  {
   "cell_type": "code",
   "execution_count": 24,
   "id": "6f295277",
   "metadata": {
    "execution": {
     "iopub.execute_input": "2023-06-22T08:15:42.901194Z",
     "iopub.status.busy": "2023-06-22T08:15:42.900813Z",
     "iopub.status.idle": "2023-06-22T08:15:43.224496Z",
     "shell.execute_reply": "2023-06-22T08:15:43.223309Z"
    },
    "papermill": {
     "duration": 0.347276,
     "end_time": "2023-06-22T08:15:43.227282",
     "exception": false,
     "start_time": "2023-06-22T08:15:42.880006",
     "status": "completed"
    },
    "tags": []
   },
   "outputs": [
    {
     "data": {
      "text/plain": [
       "<Axes: ylabel='Density'>"
      ]
     },
     "execution_count": 24,
     "metadata": {},
     "output_type": "execute_result"
    },
    {
     "data": {
      "image/png": "[encoded data removed]",
      "text/plain": [
       "<Figure size 640x480 with 1 Axes>"
      ]
     },
     "metadata": {},
     "output_type": "display_data"
    }
   ],
   "source": [
    "df.groupby('rest_type')['rate'].mean().nlargest().plot(kind='kde')"
   ]
  },
  {
   "cell_type": "markdown",
   "id": "a5898418",
   "metadata": {
    "papermill": {
     "duration": 0.019886,
     "end_time": "2023-06-22T08:15:43.267446",
     "exception": false,
     "start_time": "2023-06-22T08:15:43.247560",
     "status": "completed"
    },
    "tags": []
   },
   "source": [
    "From the above graph we can conclude that most of the restaurant type rating lies between 4.4 to 4.5."
   ]
  },
  {
   "cell_type": "markdown",
   "id": "3713042a",
   "metadata": {
    "papermill": {
     "duration": 0.019761,
     "end_time": "2023-06-22T08:15:43.307853",
     "exception": false,
     "start_time": "2023-06-22T08:15:43.288092",
     "status": "completed"
    },
    "tags": []
   },
   "source": [
    "Relation between Type and Rating"
   ]
  },
  {
   "cell_type": "code",
   "execution_count": 25,
   "id": "86936078",
   "metadata": {
    "execution": {
     "iopub.execute_input": "2023-06-22T08:15:43.349629Z",
     "iopub.status.busy": "2023-06-22T08:15:43.349194Z",
     "iopub.status.idle": "2023-06-22T08:15:43.700361Z",
     "shell.execute_reply": "2023-06-22T08:15:43.699152Z"
    },
    "papermill": {
     "duration": 0.375275,
     "end_time": "2023-06-22T08:15:43.703293",
     "exception": false,
     "start_time": "2023-06-22T08:15:43.328018",
     "status": "completed"
    },
    "tags": []
   },
   "outputs": [
    {
     "data": {
      "text/plain": [
       "<Axes: title={'center': 'Relation between Type and Rating'}, xlabel='type'>"
      ]
     },
     "execution_count": 25,
     "metadata": {},
     "output_type": "execute_result"
    },
    {
     "data": {
      "image/png": "[encoded data removed]",
      "text/plain": [
       "<Figure size 640x480 with 1 Axes>"
      ]
     },
     "metadata": {},
     "output_type": "display_data"
    }
   ],
   "source": [
    "df.groupby('type')['rate'].mean().nlargest(10).plot(kind='bar',color='purple',title='Relation between Type and Rating')\n"
   ]
  },
  {
   "cell_type": "markdown",
   "id": "2a21344d",
   "metadata": {
    "papermill": {
     "duration": 0.020842,
     "end_time": "2023-06-22T08:15:43.745151",
     "exception": false,
     "start_time": "2023-06-22T08:15:43.724309",
     "status": "completed"
    },
    "tags": []
   },
   "source": [
    "**From the above graph,we can say that Drinks and nightlife and Buffet both have almost same rating i.e. above 3.5 as compared to others type of restaurant.**"
   ]
  },
  {
   "cell_type": "markdown",
   "id": "4dc002c5",
   "metadata": {
    "papermill": {
     "duration": 0.02073,
     "end_time": "2023-06-22T08:15:43.786988",
     "exception": false,
     "start_time": "2023-06-22T08:15:43.766258",
     "status": "completed"
    },
    "tags": []
   },
   "source": [
    "Cost of Restaurants"
   ]
  },
  {
   "cell_type": "code",
   "execution_count": 26,
   "id": "0f942ca4",
   "metadata": {
    "execution": {
     "iopub.execute_input": "2023-06-22T08:15:43.831163Z",
     "iopub.status.busy": "2023-06-22T08:15:43.830717Z",
     "iopub.status.idle": "2023-06-22T08:15:44.175172Z",
     "shell.execute_reply": "2023-06-22T08:15:44.174016Z"
    },
    "papermill": {
     "duration": 0.370077,
     "end_time": "2023-06-22T08:15:44.177740",
     "exception": false,
     "start_time": "2023-06-22T08:15:43.807663",
     "status": "completed"
    },
    "tags": []
   },
   "outputs": [
    {
     "data": {
      "text/plain": [
       "Text(0.5, 1.0, 'Types of Services')"
      ]
     },
     "execution_count": 26,
     "metadata": {},
     "output_type": "execute_result"
    },
    {
     "data": {
      "image/png": "[encoded data removed]",
      "text/plain": [
       "<Figure size 640x480 with 1 Axes>"
      ]
     },
     "metadata": {},
     "output_type": "display_data"
    }
   ],
   "source": [
    "df['type'].value_counts().head(5).plot(kind='bar',legend=True).set_title('Types of Services')\n",
    "# sns.barplot(data=df,x='type',y='rate')"
   ]
  },
  {
   "cell_type": "code",
   "execution_count": 27,
   "id": "53f2a5e3",
   "metadata": {
    "execution": {
     "iopub.execute_input": "2023-06-22T08:15:44.224526Z",
     "iopub.status.busy": "2023-06-22T08:15:44.223338Z",
     "iopub.status.idle": "2023-06-22T08:15:44.606028Z",
     "shell.execute_reply": "2023-06-22T08:15:44.604776Z"
    },
    "papermill": {
     "duration": 0.409658,
     "end_time": "2023-06-22T08:15:44.609150",
     "exception": false,
     "start_time": "2023-06-22T08:15:44.199492",
     "status": "completed"
    },
    "tags": []
   },
   "outputs": [
    {
     "data": {
      "text/plain": [
       "<Axes: title={'center': 'Number of Restaurants in Location'}>"
      ]
     },
     "execution_count": 27,
     "metadata": {},
     "output_type": "execute_result"
    },
    {
     "data": {
      "image/png": "[encoded data removed]",
      "text/plain": [
       "<Figure size 640x480 with 1 Axes>"
      ]
     },
     "metadata": {},
     "output_type": "display_data"
    }
   ],
   "source": [
    "df['location'].value_counts().head(10).plot(kind='bar',title='Number of Restaurants in Location')"
   ]
  },
  {
   "cell_type": "code",
   "execution_count": null,
   "id": "f646a309",
   "metadata": {
    "papermill": {
     "duration": 0.023397,
     "end_time": "2023-06-22T08:15:44.655308",
     "exception": false,
     "start_time": "2023-06-22T08:15:44.631911",
     "status": "completed"
    },
    "tags": []
   },
   "outputs": [],
   "source": []
  }
 ],
 "metadata": {
  "kernelspec": {
   "display_name": "Python 3",
   "language": "python",
   "name": "python3"
  },
  "language_info": {
   "codemirror_mode": {
    "name": "ipython",
    "version": 3
   },
   "file_extension": ".py",
   "mimetype": "text/x-python",
   "name": "python",
   "nbconvert_exporter": "python",
   "pygments_lexer": "ipython3",
   "version": "3.10.10"
  },
  "papermill": {
   "default_parameters": {},
   "duration": 37.03668,
   "end_time": "2023-06-22T08:15:45.800390",
   "environment_variables": {},
   "exception": null,
   "input_path": "__notebook__.ipynb",
   "output_path": "__notebook__.ipynb",
   "parameters": {},
   "start_time": "2023-06-22T08:15:08.763710",
   "version": "2.4.0"
  }
 },
 "nbformat": 4,
 "nbformat_minor": 5
}
